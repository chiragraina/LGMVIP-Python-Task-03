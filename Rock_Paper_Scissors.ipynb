{
  "nbformat": 4,
  "nbformat_minor": 0,
  "metadata": {
    "colab": {
      "provenance": [],
      "authorship_tag": "ABX9TyP6ot/XmUCvh03eJsF/UomP",
      "include_colab_link": true
    },
    "kernelspec": {
      "name": "python3",
      "display_name": "Python 3"
    },
    "language_info": {
      "name": "python"
    }
  },
  "cells": [
    {
      "cell_type": "markdown",
      "metadata": {
        "id": "view-in-github",
        "colab_type": "text"
      },
      "source": [
        "<a href=\"https://colab.research.google.com/github/chiragraina/LGMVIP-Python-Task-03/blob/main/Rock_Paper_Scissors.ipynb\" target=\"_parent\"><img src=\"https://colab.research.google.com/assets/colab-badge.svg\" alt=\"Open In Colab\"/></a>"
      ]
    },
    {
      "cell_type": "code",
      "execution_count": null,
      "metadata": {
        "colab": {
          "base_uri": "https://localhost:8080/"
        },
        "id": "UGlIeKvVVogV",
        "outputId": "423798d7-01f8-4308-e6ac-fe659282b4f7"
      },
      "outputs": [
        {
          "output_type": "stream",
          "name": "stdout",
          "text": [
            "Welcome to the Rock, Paper, Scissors game!\n"
          ]
        }
      ],
      "source": [
        "import random\n",
        "\n",
        "def generate_computer_move(previous_move=None):\n",
        "    moves = [\"rock\", \"paper\", \"scissors\"]\n",
        "    if previous_move:\n",
        "        # Remove the last move to ensure variety\n",
        "        moves.remove(previous_move)\n",
        "    return random.choice(moves)\n",
        "\n",
        "def get_player_input():\n",
        "    while True:\n",
        "        choice = input(\"Type rock, paper, or scissors: \").strip().lower()\n",
        "        if choice in [\"rock\", \"paper\", \"scissors\"]:\n",
        "            return choice\n",
        "        else:\n",
        "            print(\"Invalid input. Please choose rock, paper, or scissors.\")\n",
        "\n",
        "def decide_winner(player_move, computer_move):\n",
        "    if player_move == computer_move:\n",
        "        return \"It's a draw!\"\n",
        "    if (player_move == \"rock\" and computer_move == \"scissors\") or \\\n",
        "       (player_move == \"scissors\" and computer_move == \"paper\") or \\\n",
        "       (player_move == \"paper\" and computer_move == \"rock\"):\n",
        "        return \"Congratulations, you win!\"\n",
        "    return \"Sorry, you lost.\"\n",
        "\n",
        "def start_game():\n",
        "    print(\"Welcome to the Rock, Paper, Scissors game!\")\n",
        "    last_computer_move = None\n",
        "\n",
        "    while True:\n",
        "        player_move = get_player_input()\n",
        "        computer_move = generate_computer_move(last_computer_move)\n",
        "        print(f\"The computer chose: {computer_move}\")\n",
        "        result = decide_winner(player_move, computer_move)\n",
        "        print(result)\n",
        "\n",
        "        # Save the computer's move for the next round\n",
        "        last_computer_move = computer_move\n",
        "\n",
        "        replay = input(\"Would you like to play again? (yes/no): \").strip().lower()\n",
        "        if replay != \"yes\":\n",
        "            break\n",
        "\n",
        "start_game()\n"
      ]
    }
  ]
}